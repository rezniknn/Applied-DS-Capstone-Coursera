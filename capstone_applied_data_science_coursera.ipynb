{
 "cells": [
  {
   "cell_type": "markdown",
   "metadata": {},
   "source": [
    "### This is a Jupiter Notebook for the Capstone project of Applied Data Science specialisation on Coursera\n",
    "Link: https://www.coursera.org/learn/applied-data-science-capstone/home/welcome"
   ]
  },
  {
   "cell_type": "markdown",
   "metadata": {},
   "source": [
    "## Introduction\n",
    "\n",
    "In this project we attempt to build a machine learning based system that can predict severity of a car accident based on a variety of known attributes of an accident and conditions under which the accident has occured. Severeity value is used to label an accident and split all accidents into categories based on a negative impact in terms of human fatalities, injuries, property damage, traffic delay or any other type of negative impact.\n",
    "\n",
    "#### Interest\n",
    "\n",
    "Such system is of interest for insurance companies, police department traffic management divisions or any other party interested in analysing labeled incident data to make certain conclusions. Insurance companies could use derived severity data in insurance payments calculations. Police department could use labeled data to prioritise future work of improving road infrastructure to decrease the number of accidents in most accident-prone areas.\n"
   ]
  },
  {
   "cell_type": "markdown",
   "metadata": {},
   "source": [
    "## Data\n",
    "\n",
    "\n",
    "#### Dataset\n",
    "\n",
    "As a dataset for building the prediction system collision records provided by Seattle Police Depratment have been used. Records contain a total of a little less than 200 000 records and span in a timeframe from 2004 till 2020. \n",
    "\n",
    "Dataset includes many types of collisions with attributes. Key attributes include such information as number of people and vehicles involved in an incident, weather and road conditions, reported violations that might have increased chances of a collision. Incidents are labeled by a severity code ranging from 1 (property damage) to 3 (fatality). \n",
    "\n",
    "Looking closer at the severity level in the provided dataset it is easy to determine, that only 2 values are present in records: severity level 1 (property damage) and severity level 2 (injury). Probable explaination for a lack of records with higher severity in the dataset could be sensitivity of such data, causing the authorities to filter such data out from the records available to the public."
   ]
  },
  {
   "cell_type": "code",
   "execution_count": 63,
   "metadata": {},
   "outputs": [
    {
     "data": {
      "text/plain": [
       "Index(['SEVERITYCODE', 'X', 'Y', 'OBJECTID', 'INCKEY', 'COLDETKEY', 'REPORTNO',\n",
       "       'STATUS', 'ADDRTYPE', 'INTKEY', 'LOCATION', 'EXCEPTRSNCODE',\n",
       "       'EXCEPTRSNDESC', 'SEVERITYCODE.1', 'SEVERITYDESC', 'COLLISIONTYPE',\n",
       "       'PERSONCOUNT', 'PEDCOUNT', 'PEDCYLCOUNT', 'VEHCOUNT', 'INCDATE',\n",
       "       'INCDTTM', 'JUNCTIONTYPE', 'SDOT_COLCODE', 'SDOT_COLDESC',\n",
       "       'INATTENTIONIND', 'UNDERINFL', 'WEATHER', 'ROADCOND', 'LIGHTCOND',\n",
       "       'PEDROWNOTGRNT', 'SDOTCOLNUM', 'SPEEDING', 'ST_COLCODE', 'ST_COLDESC',\n",
       "       'SEGLANEKEY', 'CROSSWALKKEY', 'HITPARKEDCAR'],\n",
       "      dtype='object')"
      ]
     },
     "execution_count": 63,
     "metadata": {},
     "output_type": "execute_result"
    }
   ],
   "source": [
    "import pandas as pd\n",
    "import numpy as np\n",
    "\n",
    "df = pd.read_csv('Data-Collisions.csv')\n",
    "df.shape"
   ]
  },
  {
   "cell_type": "markdown",
   "metadata": {},
   "source": [
    "#### Data cleaning\n",
    "\n",
    "Looking closer at the data it becomes obvious, that dataset contains a lot of information not relevant for our analysis that can be removed. In particular: \n",
    "\n",
    "1. Columns containing various indentificators of an incident - OBJECTID, INCKEY, COLDETKEY, REPORTNO, INTKEY, SDOTCOLNUM, EXCEPTRSNCODE\n",
    "2. Columns containing location data - X, Y, LOCATION, SEGLANEKEY, CROSSWALKKEY\n",
    "3. Descriptions of label data - SEVERITYDESC, ST_COLDESC, EXCEPTRSNDESC, SDOT_COLDESC\n",
    "4. Date and time data - INCDATE, INCDTTM\n",
    "5. Severety label is duplicated in colums SEVERITYCODE and SEVERITYCODE.1, we can drop the latter one\n",
    "6. STATUS columns is missing description and is irrelevant for the analysis"
   ]
  },
  {
   "cell_type": "code",
   "execution_count": 64,
   "metadata": {},
   "outputs": [
    {
     "data": {
      "text/plain": [
       "(194673, 18)"
      ]
     },
     "execution_count": 64,
     "metadata": {},
     "output_type": "execute_result"
    }
   ],
   "source": [
    "columns_to_drop = [\n",
    "    'OBJECTID', 'INCKEY', 'COLDETKEY', 'REPORTNO', 'INTKEY', 'SDOTCOLNUM', 'EXCEPTRSNCODE', #identifiers\n",
    "    'X', 'Y', 'LOCATION', 'SEGLANEKEY', 'CROSSWALKKEY', #location\n",
    "    'SEVERITYDESC', 'ST_COLDESC', 'EXCEPTRSNDESC', 'SDOT_COLDESC', #descriptions\n",
    "    'INCDATE', 'INCDTTM', #date and time\n",
    "    'SEVERITYCODE.1', #duplicated label\n",
    "    'STATUS' #unknown purpose of this column\n",
    "]\n",
    "df.drop(columns=columns_to_drop, inplace=True)\n",
    "df.shape"
   ]
  },
  {
   "cell_type": "markdown",
   "metadata": {},
   "source": [
    "The following columns needed small fixing to replace missing values with a default value or to align values in the column:\n",
    "1. INATTENTIONIND, PEDROWNOTGRNT, SPEEDING - replace NaNs with 0s, replace 'Y's with 1s\n",
    "2. UNDERINFL, HITPARKEDCAR - replace 'N's with 0s, replace 'Y' with 1s"
   ]
  },
  {
   "cell_type": "code",
   "execution_count": 66,
   "metadata": {},
   "outputs": [
    {
     "data": {
      "text/plain": [
       "(194673, 18)"
      ]
     },
     "execution_count": 66,
     "metadata": {},
     "output_type": "execute_result"
    }
   ],
   "source": [
    "df[['INATTENTIONIND', 'PEDROWNOTGRNT', 'SPEEDING']] = df[['INATTENTIONIND', 'PEDROWNOTGRNT', 'SPEEDING']].fillna(0)\n",
    "df[['INATTENTIONIND', 'PEDROWNOTGRNT', 'SPEEDING', 'UNDERINFL', 'HITPARKEDCAR']] = df[['INATTENTIONIND', 'PEDROWNOTGRNT', 'SPEEDING', 'UNDERINFL', 'HITPARKEDCAR']].replace('N', 0)\n",
    "df[['INATTENTIONIND', 'PEDROWNOTGRNT', 'SPEEDING', 'UNDERINFL', 'HITPARKEDCAR']] = df[['INATTENTIONIND', 'PEDROWNOTGRNT', 'SPEEDING', 'UNDERINFL', 'HITPARKEDCAR']].replace('Y', 1)\n",
    "df.shape"
   ]
  },
  {
   "cell_type": "markdown",
   "metadata": {},
   "source": [
    "Finally we will drop all rows that contain 'Unknown' or NaN values in any of the columns"
   ]
  },
  {
   "cell_type": "code",
   "execution_count": 67,
   "metadata": {},
   "outputs": [
    {
     "data": {
      "text/plain": [
       "(167840, 18)"
      ]
     },
     "execution_count": 67,
     "metadata": {},
     "output_type": "execute_result"
    }
   ],
   "source": [
    "df.replace('Unknown', np.nan, inplace=True)\n",
    "df.dropna(inplace=True)\n",
    "df.shape"
   ]
  },
  {
   "cell_type": "code",
   "execution_count": 68,
   "metadata": {},
   "outputs": [
    {
     "data": {
      "text/plain": [
       "Index(['SEVERITYCODE', 'ADDRTYPE', 'COLLISIONTYPE', 'PERSONCOUNT', 'PEDCOUNT',\n",
       "       'PEDCYLCOUNT', 'VEHCOUNT', 'JUNCTIONTYPE', 'SDOT_COLCODE',\n",
       "       'INATTENTIONIND', 'UNDERINFL', 'WEATHER', 'ROADCOND', 'LIGHTCOND',\n",
       "       'PEDROWNOTGRNT', 'SPEEDING', 'ST_COLCODE', 'HITPARKEDCAR'],\n",
       "      dtype='object')"
      ]
     },
     "execution_count": 68,
     "metadata": {},
     "output_type": "execute_result"
    }
   ],
   "source": [
    "df.columns"
   ]
  }
 ],
 "metadata": {
  "kernelspec": {
   "display_name": "Python 3",
   "language": "python",
   "name": "python3"
  },
  "language_info": {
   "codemirror_mode": {
    "name": "ipython",
    "version": 3
   },
   "file_extension": ".py",
   "mimetype": "text/x-python",
   "name": "python",
   "nbconvert_exporter": "python",
   "pygments_lexer": "ipython3",
   "version": "3.8.5"
  }
 },
 "nbformat": 4,
 "nbformat_minor": 4
}
